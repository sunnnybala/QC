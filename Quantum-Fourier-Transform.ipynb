{
 "cells": [
  {
   "cell_type": "code",
   "execution_count": 1,
   "id": "5f0e4157-329f-4b83-af76-207a2ffae68c",
   "metadata": {},
   "outputs": [],
   "source": [
    "import math\n",
    "\n",
    "def qft(circuit, qr, n):\n",
    "    for j in range(n):\n",
    "        circuit.h(qr[j])\n",
    "        for k in range(j+1, n):\n",
    "            circuit.cu1(math.pi / float(2**(k-j)), qr[k], qr[j])\n",
    "        circuit.barrier()\n",
    "def qft_dagger(circuit, q, n):\n",
    "    for j in range(n):\n",
    "        k = (n-1) - j\n",
    "        for m in range(k):\n",
    "            circuit.cu1(-math.pi/float(2**(k-m)), q[k], q[m])\n",
    "        circuit.h(q[k])"
   ]
  },
  {
   "cell_type": "code",
   "execution_count": null,
   "id": "7ebc058f-468a-46cc-821a-616960899eaf",
   "metadata": {},
   "outputs": [],
   "source": []
  }
 ],
 "metadata": {
  "kernelspec": {
   "display_name": "Python 3 (ipykernel)",
   "language": "python",
   "name": "python3"
  },
  "language_info": {
   "codemirror_mode": {
    "name": "ipython",
    "version": 3
   },
   "file_extension": ".py",
   "mimetype": "text/x-python",
   "name": "python",
   "nbconvert_exporter": "python",
   "pygments_lexer": "ipython3",
   "version": "3.11.4"
  }
 },
 "nbformat": 4,
 "nbformat_minor": 5
}
